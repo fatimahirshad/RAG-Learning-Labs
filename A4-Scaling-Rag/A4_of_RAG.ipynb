{
  "nbformat": 4,
  "nbformat_minor": 0,
  "metadata": {
    "colab": {
      "provenance": []
    },
    "kernelspec": {
      "name": "python3",
      "display_name": "Python 3"
    },
    "language_info": {
      "name": "python"
    }
  },
  "cells": [
    {
      "cell_type": "markdown",
      "source": [
        "# Assignment4: Scaling RAG Systems\n",
        "Objective: Understand efficiency challenges in large-scale RAG.\n",
        "Tasks:\n",
        "1. Experiment with different vector stores (e.g., FAISS vs. Pinecone vs. Milvus).\n",
        "2. Measure retrieval latency and memory usage as dataset size increases (e.g., 1k, 10k, 50k\n",
        "documents).\n",
        "3. Propose and test at least one optimization technique (e.g., ANN search, dimensionality\n",
        "reduction)."
      ],
      "metadata": {
        "id": "XIndHJlR7S8Q"
      }
    },
    {
      "cell_type": "code",
      "metadata": {
        "colab": {
          "base_uri": "https://localhost:8080/"
        },
        "id": "a4c7c210",
        "outputId": "5b9682a6-0e71-4891-f9cd-dcd08cfaaffc"
      },
      "source": [
        "# Install dependencies\n",
        "# Install dependencies\n",
        "!pip install faiss-cpu\n",
        "!pip install datasets sentence-transformers faiss-cpu pinecone matplotlib\n",
        "\n",
        "import time\n",
        "import psutil\n",
        "import numpy as np\n",
        "import faiss\n",
        "from pinecone import Pinecone, ServerlessSpec\n",
        "import matplotlib.pyplot as plt\n",
        "import pandas as pd\n",
        "from tqdm import tqdm\n",
        "from datasets import load_dataset\n",
        "from sentence_transformers import SentenceTransformer\n",
        "from sklearn.decomposition import TruncatedSVD\n",
        "\n",
        "from sklearn.decomposition import PCA\n",
        "from pinecone import ServerlessSpec"
      ],
      "execution_count": 56,
      "outputs": [
        {
          "output_type": "stream",
          "name": "stdout",
          "text": [
            "Requirement already satisfied: faiss-cpu in /usr/local/lib/python3.12/dist-packages (1.12.0)\n",
            "Requirement already satisfied: numpy<3.0,>=1.25.0 in /usr/local/lib/python3.12/dist-packages (from faiss-cpu) (2.0.2)\n",
            "Requirement already satisfied: packaging in /usr/local/lib/python3.12/dist-packages (from faiss-cpu) (24.2)\n",
            "Requirement already satisfied: datasets in /usr/local/lib/python3.12/dist-packages (4.0.0)\n",
            "Requirement already satisfied: sentence-transformers in /usr/local/lib/python3.12/dist-packages (5.1.0)\n",
            "Requirement already satisfied: faiss-cpu in /usr/local/lib/python3.12/dist-packages (1.12.0)\n",
            "Requirement already satisfied: pinecone in /usr/local/lib/python3.12/dist-packages (7.3.0)\n",
            "Requirement already satisfied: matplotlib in /usr/local/lib/python3.12/dist-packages (3.10.0)\n",
            "Requirement already satisfied: filelock in /usr/local/lib/python3.12/dist-packages (from datasets) (3.19.1)\n",
            "Requirement already satisfied: numpy>=1.17 in /usr/local/lib/python3.12/dist-packages (from datasets) (2.0.2)\n",
            "Requirement already satisfied: pyarrow>=15.0.0 in /usr/local/lib/python3.12/dist-packages (from datasets) (18.1.0)\n",
            "Requirement already satisfied: dill<0.3.9,>=0.3.0 in /usr/local/lib/python3.12/dist-packages (from datasets) (0.3.8)\n",
            "Requirement already satisfied: pandas in /usr/local/lib/python3.12/dist-packages (from datasets) (2.2.2)\n",
            "Requirement already satisfied: requests>=2.32.2 in /usr/local/lib/python3.12/dist-packages (from datasets) (2.32.4)\n",
            "Requirement already satisfied: tqdm>=4.66.3 in /usr/local/lib/python3.12/dist-packages (from datasets) (4.67.1)\n",
            "Requirement already satisfied: xxhash in /usr/local/lib/python3.12/dist-packages (from datasets) (3.5.0)\n",
            "Requirement already satisfied: multiprocess<0.70.17 in /usr/local/lib/python3.12/dist-packages (from datasets) (0.70.16)\n",
            "Requirement already satisfied: fsspec<=2025.3.0,>=2023.1.0 in /usr/local/lib/python3.12/dist-packages (from fsspec[http]<=2025.3.0,>=2023.1.0->datasets) (2025.3.0)\n",
            "Requirement already satisfied: huggingface-hub>=0.24.0 in /usr/local/lib/python3.12/dist-packages (from datasets) (0.34.4)\n",
            "Requirement already satisfied: packaging in /usr/local/lib/python3.12/dist-packages (from datasets) (24.2)\n",
            "Requirement already satisfied: pyyaml>=5.1 in /usr/local/lib/python3.12/dist-packages (from datasets) (6.0.2)\n",
            "Requirement already satisfied: transformers<5.0.0,>=4.41.0 in /usr/local/lib/python3.12/dist-packages (from sentence-transformers) (4.56.0)\n",
            "Requirement already satisfied: torch>=1.11.0 in /usr/local/lib/python3.12/dist-packages (from sentence-transformers) (2.8.0+cu126)\n",
            "Requirement already satisfied: scikit-learn in /usr/local/lib/python3.12/dist-packages (from sentence-transformers) (1.6.1)\n",
            "Requirement already satisfied: scipy in /usr/local/lib/python3.12/dist-packages (from sentence-transformers) (1.16.1)\n",
            "Requirement already satisfied: Pillow in /usr/local/lib/python3.12/dist-packages (from sentence-transformers) (11.3.0)\n",
            "Requirement already satisfied: typing_extensions>=4.5.0 in /usr/local/lib/python3.12/dist-packages (from sentence-transformers) (4.15.0)\n",
            "Requirement already satisfied: certifi>=2019.11.17 in /usr/local/lib/python3.12/dist-packages (from pinecone) (2025.8.3)\n",
            "Requirement already satisfied: pinecone-plugin-assistant<2.0.0,>=1.6.0 in /usr/local/lib/python3.12/dist-packages (from pinecone) (1.8.0)\n",
            "Requirement already satisfied: pinecone-plugin-interface<0.0.8,>=0.0.7 in /usr/local/lib/python3.12/dist-packages (from pinecone) (0.0.7)\n",
            "Requirement already satisfied: python-dateutil>=2.5.3 in /usr/local/lib/python3.12/dist-packages (from pinecone) (2.9.0.post0)\n",
            "Requirement already satisfied: urllib3>=1.26.5 in /usr/local/lib/python3.12/dist-packages (from pinecone) (2.5.0)\n",
            "Requirement already satisfied: contourpy>=1.0.1 in /usr/local/lib/python3.12/dist-packages (from matplotlib) (1.3.3)\n",
            "Requirement already satisfied: cycler>=0.10 in /usr/local/lib/python3.12/dist-packages (from matplotlib) (0.12.1)\n",
            "Requirement already satisfied: fonttools>=4.22.0 in /usr/local/lib/python3.12/dist-packages (from matplotlib) (4.59.2)\n",
            "Requirement already satisfied: kiwisolver>=1.3.1 in /usr/local/lib/python3.12/dist-packages (from matplotlib) (1.4.9)\n",
            "Requirement already satisfied: pyparsing>=2.3.1 in /usr/local/lib/python3.12/dist-packages (from matplotlib) (3.2.3)\n",
            "Requirement already satisfied: aiohttp!=4.0.0a0,!=4.0.0a1 in /usr/local/lib/python3.12/dist-packages (from fsspec[http]<=2025.3.0,>=2023.1.0->datasets) (3.12.15)\n",
            "Requirement already satisfied: hf-xet<2.0.0,>=1.1.3 in /usr/local/lib/python3.12/dist-packages (from huggingface-hub>=0.24.0->datasets) (1.1.9)\n",
            "Requirement already satisfied: six>=1.5 in /usr/local/lib/python3.12/dist-packages (from python-dateutil>=2.5.3->pinecone) (1.17.0)\n",
            "Requirement already satisfied: charset_normalizer<4,>=2 in /usr/local/lib/python3.12/dist-packages (from requests>=2.32.2->datasets) (3.4.3)\n",
            "Requirement already satisfied: idna<4,>=2.5 in /usr/local/lib/python3.12/dist-packages (from requests>=2.32.2->datasets) (3.10)\n",
            "Requirement already satisfied: setuptools in /usr/local/lib/python3.12/dist-packages (from torch>=1.11.0->sentence-transformers) (75.2.0)\n",
            "Requirement already satisfied: sympy>=1.13.3 in /usr/local/lib/python3.12/dist-packages (from torch>=1.11.0->sentence-transformers) (1.13.3)\n",
            "Requirement already satisfied: networkx in /usr/local/lib/python3.12/dist-packages (from torch>=1.11.0->sentence-transformers) (3.5)\n",
            "Requirement already satisfied: jinja2 in /usr/local/lib/python3.12/dist-packages (from torch>=1.11.0->sentence-transformers) (3.1.6)\n",
            "Requirement already satisfied: nvidia-cuda-nvrtc-cu12==12.6.77 in /usr/local/lib/python3.12/dist-packages (from torch>=1.11.0->sentence-transformers) (12.6.77)\n",
            "Requirement already satisfied: nvidia-cuda-runtime-cu12==12.6.77 in /usr/local/lib/python3.12/dist-packages (from torch>=1.11.0->sentence-transformers) (12.6.77)\n",
            "Requirement already satisfied: nvidia-cuda-cupti-cu12==12.6.80 in /usr/local/lib/python3.12/dist-packages (from torch>=1.11.0->sentence-transformers) (12.6.80)\n",
            "Requirement already satisfied: nvidia-cudnn-cu12==9.10.2.21 in /usr/local/lib/python3.12/dist-packages (from torch>=1.11.0->sentence-transformers) (9.10.2.21)\n",
            "Requirement already satisfied: nvidia-cublas-cu12==12.6.4.1 in /usr/local/lib/python3.12/dist-packages (from torch>=1.11.0->sentence-transformers) (12.6.4.1)\n",
            "Requirement already satisfied: nvidia-cufft-cu12==11.3.0.4 in /usr/local/lib/python3.12/dist-packages (from torch>=1.11.0->sentence-transformers) (11.3.0.4)\n",
            "Requirement already satisfied: nvidia-curand-cu12==10.3.7.77 in /usr/local/lib/python3.12/dist-packages (from torch>=1.11.0->sentence-transformers) (10.3.7.77)\n",
            "Requirement already satisfied: nvidia-cusolver-cu12==11.7.1.2 in /usr/local/lib/python3.12/dist-packages (from torch>=1.11.0->sentence-transformers) (11.7.1.2)\n",
            "Requirement already satisfied: nvidia-cusparse-cu12==12.5.4.2 in /usr/local/lib/python3.12/dist-packages (from torch>=1.11.0->sentence-transformers) (12.5.4.2)\n",
            "Requirement already satisfied: nvidia-cusparselt-cu12==0.7.1 in /usr/local/lib/python3.12/dist-packages (from torch>=1.11.0->sentence-transformers) (0.7.1)\n",
            "Requirement already satisfied: nvidia-nccl-cu12==2.27.3 in /usr/local/lib/python3.12/dist-packages (from torch>=1.11.0->sentence-transformers) (2.27.3)\n",
            "Requirement already satisfied: nvidia-nvtx-cu12==12.6.77 in /usr/local/lib/python3.12/dist-packages (from torch>=1.11.0->sentence-transformers) (12.6.77)\n",
            "Requirement already satisfied: nvidia-nvjitlink-cu12==12.6.85 in /usr/local/lib/python3.12/dist-packages (from torch>=1.11.0->sentence-transformers) (12.6.85)\n",
            "Requirement already satisfied: nvidia-cufile-cu12==1.11.1.6 in /usr/local/lib/python3.12/dist-packages (from torch>=1.11.0->sentence-transformers) (1.11.1.6)\n",
            "Requirement already satisfied: triton==3.4.0 in /usr/local/lib/python3.12/dist-packages (from torch>=1.11.0->sentence-transformers) (3.4.0)\n",
            "Requirement already satisfied: regex!=2019.12.17 in /usr/local/lib/python3.12/dist-packages (from transformers<5.0.0,>=4.41.0->sentence-transformers) (2024.11.6)\n",
            "Requirement already satisfied: tokenizers<=0.23.0,>=0.22.0 in /usr/local/lib/python3.12/dist-packages (from transformers<5.0.0,>=4.41.0->sentence-transformers) (0.22.0)\n",
            "Requirement already satisfied: safetensors>=0.4.3 in /usr/local/lib/python3.12/dist-packages (from transformers<5.0.0,>=4.41.0->sentence-transformers) (0.6.2)\n",
            "Requirement already satisfied: pytz>=2020.1 in /usr/local/lib/python3.12/dist-packages (from pandas->datasets) (2025.2)\n",
            "Requirement already satisfied: tzdata>=2022.7 in /usr/local/lib/python3.12/dist-packages (from pandas->datasets) (2025.2)\n",
            "Requirement already satisfied: joblib>=1.2.0 in /usr/local/lib/python3.12/dist-packages (from scikit-learn->sentence-transformers) (1.5.2)\n",
            "Requirement already satisfied: threadpoolctl>=3.1.0 in /usr/local/lib/python3.12/dist-packages (from scikit-learn->sentence-transformers) (3.6.0)\n",
            "Requirement already satisfied: aiohappyeyeballs>=2.5.0 in /usr/local/lib/python3.12/dist-packages (from aiohttp!=4.0.0a0,!=4.0.0a1->fsspec[http]<=2025.3.0,>=2023.1.0->datasets) (2.6.1)\n",
            "Requirement already satisfied: aiosignal>=1.4.0 in /usr/local/lib/python3.12/dist-packages (from aiohttp!=4.0.0a0,!=4.0.0a1->fsspec[http]<=2025.3.0,>=2023.1.0->datasets) (1.4.0)\n",
            "Requirement already satisfied: attrs>=17.3.0 in /usr/local/lib/python3.12/dist-packages (from aiohttp!=4.0.0a0,!=4.0.0a1->fsspec[http]<=2025.3.0,>=2023.1.0->datasets) (25.3.0)\n",
            "Requirement already satisfied: frozenlist>=1.1.1 in /usr/local/lib/python3.12/dist-packages (from aiohttp!=4.0.0a0,!=4.0.0a1->fsspec[http]<=2025.3.0,>=2023.1.0->datasets) (1.7.0)\n",
            "Requirement already satisfied: multidict<7.0,>=4.5 in /usr/local/lib/python3.12/dist-packages (from aiohttp!=4.0.0a0,!=4.0.0a1->fsspec[http]<=2025.3.0,>=2023.1.0->datasets) (6.6.4)\n",
            "Requirement already satisfied: propcache>=0.2.0 in /usr/local/lib/python3.12/dist-packages (from aiohttp!=4.0.0a0,!=4.0.0a1->fsspec[http]<=2025.3.0,>=2023.1.0->datasets) (0.3.2)\n",
            "Requirement already satisfied: yarl<2.0,>=1.17.0 in /usr/local/lib/python3.12/dist-packages (from aiohttp!=4.0.0a0,!=4.0.0a1->fsspec[http]<=2025.3.0,>=2023.1.0->datasets) (1.20.1)\n",
            "Requirement already satisfied: mpmath<1.4,>=1.1.0 in /usr/local/lib/python3.12/dist-packages (from sympy>=1.13.3->torch>=1.11.0->sentence-transformers) (1.3.0)\n",
            "Requirement already satisfied: MarkupSafe>=2.0 in /usr/local/lib/python3.12/dist-packages (from jinja2->torch>=1.11.0->sentence-transformers) (3.0.2)\n"
          ]
        }
      ]
    },
    {
      "cell_type": "code",
      "source": [
        "\n",
        "# ============================================================\n",
        "# CONFIG\n",
        "# ============================================================\n",
        "DATASET_SIZES = [500, 2000, 5000]   # stepwise sizes\n",
        "EMBED_MODEL = \"all-MiniLM-L6-v2\"\n",
        "QUERIES = [\"sports news\", \"stock market\", \"new technology\", \"global politics\", \"NASA mission\"]\n",
        "REDUCED_DIM = 128       # for Task 2\n",
        "INDEX_NAME = \"rag-assignment\"\n",
        "USE_PINECONE = True     # toggle Pinecone on/off\n",
        "PINECONE_API_KEY = \"pcsk_5G13d4_8s2RJ85tubXBFL9PsmA5wk7qjVfFSHviXG6omXKA6R8XGcCPAhSYzB1XNiGfN58\"   # <--- put your key here"
      ],
      "metadata": {
        "id": "n6X0N7H6DItC"
      },
      "execution_count": 57,
      "outputs": []
    },
    {
      "cell_type": "code",
      "source": [
        "# ============================================================\n",
        "# Load Dataset (AG News)\n",
        "# ============================================================\n",
        "full_dataset = load_dataset(\"ag_news\", split=\"train[:6000]\")  # enough to cover largest size\n",
        "all_docs = [row[\"text\"] for row in full_dataset]\n",
        "\n",
        "print(\"Sample documents:\\n\")\n",
        "for i in range(3):\n",
        "    print(f\"{i+1}. {all_docs[i]}\")"
      ],
      "metadata": {
        "colab": {
          "base_uri": "https://localhost:8080/"
        },
        "id": "OAk2BO-9DI6E",
        "outputId": "0b782163-c9b3-4915-ca98-7286d244995e"
      },
      "execution_count": 58,
      "outputs": [
        {
          "output_type": "stream",
          "name": "stdout",
          "text": [
            "Sample documents:\n",
            "\n",
            "1. Wall St. Bears Claw Back Into the Black (Reuters) Reuters - Short-sellers, Wall Street's dwindling\\band of ultra-cynics, are seeing green again.\n",
            "2. Carlyle Looks Toward Commercial Aerospace (Reuters) Reuters - Private investment firm Carlyle Group,\\which has a reputation for making well-timed and occasionally\\controversial plays in the defense industry, has quietly placed\\its bets on another part of the market.\n",
            "3. Oil and Economy Cloud Stocks' Outlook (Reuters) Reuters - Soaring crude prices plus worries\\about the economy and the outlook for earnings are expected to\\hang over the stock market next week during the depth of the\\summer doldrums.\n"
          ]
        }
      ]
    },
    {
      "cell_type": "code",
      "source": [
        "# ============================================================\n",
        "# Model\n",
        "# ============================================================\n",
        "model = SentenceTransformer(EMBED_MODEL)\n"
      ],
      "metadata": {
        "id": "HVr-T_zfDPq_"
      },
      "execution_count": 59,
      "outputs": []
    },
    {
      "cell_type": "code",
      "source": [
        " # ============================================================\n",
        "# Pinecone Setup (NEW API)\n",
        "# ============================================================\n",
        "from pinecone import Pinecone\n",
        "\n",
        "if USE_PINECONE:\n",
        "    pc = Pinecone(api_key=PINECONE_API_KEY)  # create Pinecone client\n",
        "    if INDEX_NAME not in pc.list_indexes().names():\n",
        "        pc.create_index(name=INDEX_NAME, dimension=embs.shape[1], metric=\"cosine\")\n",
        "    pinecone_index = pc.Index(INDEX_NAME)\n"
      ],
      "metadata": {
        "id": "H5aKv9mMDVVM"
      },
      "execution_count": 60,
      "outputs": []
    },
    {
      "cell_type": "code",
      "source": [
        "# ============================================================\n",
        "# Helper Functions\n",
        "# ============================================================\n",
        "def measure_resources(func, *args, **kwargs):\n",
        "    \"\"\"Measure time and memory for an index/search function\"\"\"\n",
        "    start = time.time()\n",
        "    start_mem = psutil.Process().memory_info().rss / 1e6\n",
        "    result = func(*args, **kwargs)\n",
        "    end = time.time()\n",
        "    end_mem = psutil.Process().memory_info().rss / 1e6\n",
        "    return result, end - start, end_mem - start_mem\n",
        "\n",
        "\n",
        "def reduce_dim(embeddings, dim=128):\n",
        "    \"\"\"Reduce embeddings to a lower dimension using PCA.\"\"\"\n",
        "    pca = PCA(n_components=dim)\n",
        "    return pca.fit_transform(embeddings)\n",
        "\n",
        "def batch_upsert(index, vectors, batch_size=1000):\n",
        "    \"\"\"Upload vectors to Pinecone in smaller batches (max 1000/request).\"\"\"\n",
        "    for i in range(0, len(vectors), batch_size):\n",
        "        batch = vectors[i:i + batch_size]\n",
        "        index.upsert(batch)"
      ],
      "metadata": {
        "id": "MGpDct39Da_y"
      },
      "execution_count": 61,
      "outputs": []
    },
    {
      "cell_type": "code",
      "source": [
        "# -----------------------------\n",
        "# FAISS Index Builders\n",
        "# -----------------------------\n",
        "def build_index_flat(embs):\n",
        "    index = faiss.IndexFlatL2(embs.shape[1])\n",
        "    index.add(embs)\n",
        "    return index\n",
        "\n",
        "def build_index_reduced(embs, dim=128):\n",
        "    svd = TruncatedSVD(n_components=dim)\n",
        "    reduced = svd.fit_transform(embs)\n",
        "    index = faiss.IndexFlatL2(dim)\n",
        "    index.add(reduced.astype(np.float32))\n",
        "    return index, svd\n",
        "\n",
        "def build_index_hnsw(embs, M=32, ef=40):\n",
        "    d = embs.shape[1]\n",
        "    index = faiss.IndexHNSWFlat(d, M)\n",
        "    index.hnsw.efSearch = ef\n",
        "    index.add(embs)\n",
        "    return index"
      ],
      "metadata": {
        "id": "IvLXXUjnEBgz"
      },
      "execution_count": 62,
      "outputs": []
    },
    {
      "cell_type": "code",
      "execution_count": 63,
      "metadata": {
        "id": "w1HV8TkHzbpZ"
      },
      "outputs": [],
      "source": [
        "# ============================================================\n",
        "# --- TASK 1: Flat Index (Exact Search)\n",
        "# ============================================================\n",
        "faiss_flat, t_faiss_flat, m_faiss_flat = measure_resources(build_index_flat, embs)\n",
        "\n",
        "if USE_PINECONE:\n",
        "    if INDEX_NAME in pc.list_indexes().names():\n",
        "        pc.delete_index(INDEX_NAME)\n",
        "\n",
        "    pc.create_index(\n",
        "        name=INDEX_NAME,\n",
        "        dimension=embs.shape[1],\n",
        "        metric=\"cosine\",\n",
        "        spec=ServerlessSpec(\n",
        "            cloud=\"aws\",\n",
        "            region=\"us-east-1\"\n",
        "        )\n",
        "    )\n",
        "\n",
        "    pinecone_index = pc.Index(INDEX_NAME)\n",
        "    vectors = [(str(i), embs[i].tolist(), {\"text\": docs[i]}) for i in range(len(docs))]\n",
        "    _, t_pine_flat, m_pine_flat = measure_resources(batch_upsert, pinecone_index, vectors)\n"
      ]
    },
    {
      "cell_type": "code",
      "source": [
        "# ============================================================\n",
        "# --- TASK 2: Reduced Dimension (PCA + Flat Index)\n",
        "# ============================================================\n",
        "embs_reduced = reduce_dim(embs, dim=128)\n",
        "faiss_pca, t_faiss_pca, m_faiss_pca = measure_resources(build_index_flat, embs_reduced)\n",
        "\n",
        "if USE_PINECONE:\n",
        "    if INDEX_NAME in pc.list_indexes().names():\n",
        "        pc.delete_index(INDEX_NAME)\n",
        "\n",
        "    pc.create_index(\n",
        "        name=INDEX_NAME,\n",
        "        dimension=embs_reduced.shape[1],\n",
        "        metric=\"cosine\",\n",
        "        spec=ServerlessSpec(\n",
        "            cloud=\"aws\",\n",
        "            region=\"us-east-1\"\n",
        "        )\n",
        "    )\n",
        "\n",
        "    pinecone_index = pc.Index(INDEX_NAME)\n",
        "    vectors = [(str(i), embs_reduced[i].tolist(), {\"text\": docs[i]}) for i in range(len(docs))]\n",
        "    _, t_pine_pca, m_pine_pca = measure_resources(batch_upsert, pinecone_index, vectors)\n"
      ],
      "metadata": {
        "id": "WVW1rCcaFTGM"
      },
      "execution_count": 64,
      "outputs": []
    },
    {
      "cell_type": "code",
      "source": [
        "# ============================================================\n",
        "# --- TASK 3: HNSW Index (Approximate Search)\n",
        "# ============================================================\n",
        "faiss_hnsw, t_faiss_hnsw, m_faiss_hnsw = measure_resources(build_index_hnsw, embs)\n",
        "\n",
        "if USE_PINECONE:\n",
        "    if INDEX_NAME in pc.list_indexes().names():\n",
        "        pc.delete_index(INDEX_NAME)\n",
        "\n",
        "    pc.create_index(\n",
        "        name=INDEX_NAME,\n",
        "        dimension=embs.shape[1],\n",
        "        metric=\"cosine\",\n",
        "        spec=ServerlessSpec(\n",
        "            cloud=\"aws\",\n",
        "            region=\"us-east-1\"\n",
        "        )\n",
        "    )\n",
        "\n",
        "    pinecone_index = pc.Index(INDEX_NAME)\n",
        "    vectors = [(str(i), embs[i].tolist(), {\"text\": docs[i]}) for i in range(len(docs))]\n",
        "    _, t_pine_hnsw, m_pine_hnsw = measure_resources(batch_upsert, pinecone_index, vectors)"
      ],
      "metadata": {
        "id": "zOOsgZ9PFbCN"
      },
      "execution_count": 65,
      "outputs": []
    },
    {
      "cell_type": "code",
      "source": [
        "# ============================================================\n",
        "# Collect Results (rounded)\n",
        "# ============================================================\n",
        "results = {\n",
        "    \"Task\": [\"Flat (Exact)\", \"Reduced Dim\", \"Optimized (HNSW)\"],\n",
        "    \"FAISS Time (s)\": [t_faiss_flat, t_faiss_red, t_faiss_hnsw],\n",
        "    \"FAISS Mem (MB)\": [m_faiss_flat, m_faiss_red, m_faiss_hnsw],\n",
        "    \"Pinecone Time (s)\": [t_pine_flat, t_pine_pca, t_pine_hnsw],\n",
        "    \"Pinecone Mem (MB)\": [m_pine_flat, m_pine_pca, m_pine_hnsw]\n",
        "}\n",
        "\n",
        "df_results = pd.DataFrame(results)\n",
        "\n",
        "# Round numbers for readability\n",
        "df_results_rounded = df_results.copy().round(4)\n",
        "\n",
        "#print(\"\\n=== Comparison Table (Pretty Print) ===\\n\")\n",
        "# Option 1: Tabulate for console\n",
        "#from tabulate import tabulate\n",
        "#print(tabulate(df_results_rounded, headers=\"keys\", tablefmt=\"pretty\"))\n",
        "\n",
        "# Option 2: Styled DataFrame (works in Jupyter/Colab, not plain console)\n",
        "try:\n",
        "    df_results_styled = (\n",
        "        df_results_rounded.style\n",
        "        .set_caption(\"Indexing Performance Comparison\")\n",
        "        .background_gradient(cmap=\"Blues\", subset=[\"FAISS Time (s)\", \"Pinecone Time (s)\"])\n",
        "        .background_gradient(cmap=\"Greens\", subset=[\"FAISS Mem (MB)\", \"Pinecone Mem (MB)\"])\n",
        "        .format(precision=4)\n",
        "    )\n",
        "    display(df_results_styled)\n",
        "except:\n",
        "    pass\n",
        "\n",
        "# ============================================================\n",
        "# Plot Graphs\n",
        "# ============================================================\n",
        "df_results_rounded.plot(x=\"Task\", y=[\"FAISS Time (s)\", \"Pinecone Time (s)\"], kind=\"bar\", figsize=(8,5))\n",
        "plt.title(\"Indexing Time Comparison\")\n",
        "plt.ylabel(\"Time (s)\")\n",
        "plt.show()\n",
        "\n",
        "df_results_rounded.plot(x=\"Task\", y=[\"FAISS Mem (MB)\", \"Pinecone Mem (MB)\"], kind=\"bar\", figsize=(8,5))\n",
        "plt.title(\"Memory Usage Comparison\")\n",
        "plt.ylabel(\"Memory (MB)\")\n",
        "plt.show()\n"
      ],
      "metadata": {
        "colab": {
          "base_uri": "https://localhost:8080/",
          "height": 1000
        },
        "id": "6gIQwcxwE-_8",
        "outputId": "e2a2c9ae-604c-4753-e2ee-021ac3ba977a"
      },
      "execution_count": 73,
      "outputs": [
        {
          "output_type": "display_data",
          "data": {
            "text/plain": [
              "<pandas.io.formats.style.Styler at 0x78556e9e0c20>"
            ],
            "text/html": [
              "<style type=\"text/css\">\n",
              "#T_6888b_row0_col1, #T_6888b_row1_col3 {\n",
              "  background-color: #f7fbff;\n",
              "  color: #000000;\n",
              "}\n",
              "#T_6888b_row0_col2, #T_6888b_row1_col2, #T_6888b_row2_col2, #T_6888b_row2_col4 {\n",
              "  background-color: #f7fcf5;\n",
              "  color: #000000;\n",
              "}\n",
              "#T_6888b_row0_col3, #T_6888b_row1_col1 {\n",
              "  background-color: #08306b;\n",
              "  color: #f1f1f1;\n",
              "}\n",
              "#T_6888b_row0_col4 {\n",
              "  background-color: #00441b;\n",
              "  color: #f1f1f1;\n",
              "}\n",
              "#T_6888b_row1_col4 {\n",
              "  background-color: #aedea7;\n",
              "  color: #000000;\n",
              "}\n",
              "#T_6888b_row2_col1 {\n",
              "  background-color: #c4daee;\n",
              "  color: #000000;\n",
              "}\n",
              "#T_6888b_row2_col3 {\n",
              "  background-color: #2f7fbc;\n",
              "  color: #f1f1f1;\n",
              "}\n",
              "</style>\n",
              "<table id=\"T_6888b\" class=\"dataframe\">\n",
              "  <caption>Indexing Performance Comparison</caption>\n",
              "  <thead>\n",
              "    <tr>\n",
              "      <th class=\"blank level0\" >&nbsp;</th>\n",
              "      <th id=\"T_6888b_level0_col0\" class=\"col_heading level0 col0\" >Task</th>\n",
              "      <th id=\"T_6888b_level0_col1\" class=\"col_heading level0 col1\" >FAISS Time (s)</th>\n",
              "      <th id=\"T_6888b_level0_col2\" class=\"col_heading level0 col2\" >FAISS Mem (MB)</th>\n",
              "      <th id=\"T_6888b_level0_col3\" class=\"col_heading level0 col3\" >Pinecone Time (s)</th>\n",
              "      <th id=\"T_6888b_level0_col4\" class=\"col_heading level0 col4\" >Pinecone Mem (MB)</th>\n",
              "    </tr>\n",
              "  </thead>\n",
              "  <tbody>\n",
              "    <tr>\n",
              "      <th id=\"T_6888b_level0_row0\" class=\"row_heading level0 row0\" >0</th>\n",
              "      <td id=\"T_6888b_row0_col0\" class=\"data row0 col0\" >Flat (Exact)</td>\n",
              "      <td id=\"T_6888b_row0_col1\" class=\"data row0 col1\" >0.0015</td>\n",
              "      <td id=\"T_6888b_row0_col2\" class=\"data row0 col2\" >0.0000</td>\n",
              "      <td id=\"T_6888b_row0_col3\" class=\"data row0 col3\" >6.1179</td>\n",
              "      <td id=\"T_6888b_row0_col4\" class=\"data row0 col4\" >0.8110</td>\n",
              "    </tr>\n",
              "    <tr>\n",
              "      <th id=\"T_6888b_level0_row1\" class=\"row_heading level0 row1\" >1</th>\n",
              "      <td id=\"T_6888b_row1_col0\" class=\"data row1 col0\" >Reduced Dim</td>\n",
              "      <td id=\"T_6888b_row1_col1\" class=\"data row1 col1\" >0.4545</td>\n",
              "      <td id=\"T_6888b_row1_col2\" class=\"data row1 col2\" >0.0000</td>\n",
              "      <td id=\"T_6888b_row1_col3\" class=\"data row1 col3\" >2.8372</td>\n",
              "      <td id=\"T_6888b_row1_col4\" class=\"data row1 col4\" >0.2703</td>\n",
              "    </tr>\n",
              "    <tr>\n",
              "      <th id=\"T_6888b_level0_row2\" class=\"row_heading level0 row2\" >2</th>\n",
              "      <td id=\"T_6888b_row2_col0\" class=\"data row2 col0\" >Optimized (HNSW)</td>\n",
              "      <td id=\"T_6888b_row2_col1\" class=\"data row2 col1\" >0.1182</td>\n",
              "      <td id=\"T_6888b_row2_col2\" class=\"data row2 col2\" >0.0000</td>\n",
              "      <td id=\"T_6888b_row2_col3\" class=\"data row2 col3\" >5.1221</td>\n",
              "      <td id=\"T_6888b_row2_col4\" class=\"data row2 col4\" >0.0000</td>\n",
              "    </tr>\n",
              "  </tbody>\n",
              "</table>\n"
            ]
          },
          "metadata": {}
        },
        {
          "output_type": "display_data",
          "data": {
            "text/plain": [
              "<Figure size 800x500 with 1 Axes>"
            ],
            "image/png": "[encoded data removed]"
          },
          "metadata": {}
        },
        {
          "output_type": "display_data",
          "data": {
            "text/plain": [
              "<Figure size 800x500 with 1 Axes>"
            ],
            "image/png": "[encoded data removed]"
          },
          "metadata": {}
        }
      ]
    }
  ]
}